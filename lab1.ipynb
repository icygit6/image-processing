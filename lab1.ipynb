{
  "nbformat": 4,
  "nbformat_minor": 0,
  "metadata": {
    "colab": {
      "provenance": [],
      "gpuType": "T4",
      "authorship_tag": "ABX9TyPsovoOoaRPYtPFZVG2GLeJ",
      "include_colab_link": true
    },
    "kernelspec": {
      "name": "python3",
      "display_name": "Python 3"
    },
    "language_info": {
      "name": "python"
    },
    "accelerator": "GPU"
  },
  "cells": [
    {
      "cell_type": "markdown",
      "metadata": {
        "id": "view-in-github",
        "colab_type": "text"
      },
      "source": [
        "<a href=\"https://colab.research.google.com/github/icygit6/image-processing/blob/main/lab1.ipynb\" target=\"_parent\"><img src=\"https://colab.research.google.com/assets/colab-badge.svg\" alt=\"Open In Colab\"/></a>"
      ]
    },
    {
      "cell_type": "code",
      "execution_count": null,
      "metadata": {
        "id": "-AmAUdpCT_mV",
        "colab": {
          "base_uri": "https://localhost:8080/"
        },
        "outputId": "b13f541d-81f5-40cf-f1d7-71d708a92d76"
      },
      "outputs": [
        {
          "output_type": "stream",
          "name": "stdout",
          "text": [
            "12\n"
          ]
        }
      ],
      "source": [
        "import numpy as np\n",
        "a = 12\n",
        "print (a)"
      ]
    },
    {
      "cell_type": "code",
      "source": [
        "import tensorflow as tf\n",
        "tf.test.gpu_device_name()"
      ],
      "metadata": {
        "colab": {
          "base_uri": "https://localhost:8080/",
          "height": 35
        },
        "id": "irZ7_ip56aQ4",
        "outputId": "6d1561c4-8d23-4c2f-c859-1d1bb53334cd"
      },
      "execution_count": null,
      "outputs": [
        {
          "output_type": "execute_result",
          "data": {
            "text/plain": [
              "'/device:GPU:0'"
            ],
            "application/vnd.google.colaboratory.intrinsic+json": {
              "type": "string"
            }
          },
          "metadata": {},
          "execution_count": 1
        }
      ]
    },
    {
      "cell_type": "code",
      "source": [
        "pip install opencv-python"
      ],
      "metadata": {
        "colab": {
          "base_uri": "https://localhost:8080/"
        },
        "id": "AnZvW6qS6qxQ",
        "outputId": "3f9dc838-90e8-4728-877a-eaeedd2f45c2"
      },
      "execution_count": null,
      "outputs": [
        {
          "output_type": "stream",
          "name": "stdout",
          "text": [
            "Requirement already satisfied: opencv-python in /usr/local/lib/python3.10/dist-packages (4.10.0.84)\n",
            "Requirement already satisfied: numpy>=1.21.2 in /usr/local/lib/python3.10/dist-packages (from opencv-python) (1.26.4)\n"
          ]
        }
      ]
    },
    {
      "cell_type": "code",
      "source": [
        "n1= eval(input(\"input n1 = \"))\n",
        "n2= eval(input(\"input n2 = \"))\n",
        "print(f\"{n1} + {n2} = {n1 + n2}\")\n",
        "print(f\"{n1} - {n2} = {n1 - n2}\")\n",
        "print(f\"{n1} * {n2} = {n1 * n2}\")\n",
        "print(f\"{n1} / {n2} = {n1 / n2}\")\n"
      ],
      "metadata": {
        "colab": {
          "base_uri": "https://localhost:8080/"
        },
        "id": "U0FoKedIB-oK",
        "outputId": "84aa2128-f7a8-4f1f-af8e-74202e37a0b4"
      },
      "execution_count": null,
      "outputs": [
        {
          "output_type": "stream",
          "name": "stdout",
          "text": [
            "input n1 = 11\n",
            "input n2 = 3\n",
            "11 + 3 = 14\n",
            "11 - 3 = 8\n",
            "11 * 3 = 33\n",
            "11 / 3 = 3.6666666666666665\n"
          ]
        }
      ]
    },
    {
      "cell_type": "code",
      "source": [
        "for i in range(1, 11):\n",
        "  for j in range(1, 11):\n",
        "    print(f\"{j} x {i} = {i * j}\", end=\"\\t\")\n",
        "  print()\n"
      ],
      "metadata": {
        "colab": {
          "base_uri": "https://localhost:8080/"
        },
        "id": "v6AIkXsF7bN2",
        "outputId": "4abd0db5-ac69-450f-cadc-5c631d8f420d"
      },
      "execution_count": null,
      "outputs": [
        {
          "output_type": "stream",
          "name": "stdout",
          "text": [
            "1 x 1 = 1\t2 x 1 = 2\t3 x 1 = 3\t4 x 1 = 4\t5 x 1 = 5\t6 x 1 = 6\t7 x 1 = 7\t8 x 1 = 8\t9 x 1 = 9\t10 x 1 = 10\t\n",
            "1 x 2 = 2\t2 x 2 = 4\t3 x 2 = 6\t4 x 2 = 8\t5 x 2 = 10\t6 x 2 = 12\t7 x 2 = 14\t8 x 2 = 16\t9 x 2 = 18\t10 x 2 = 20\t\n",
            "1 x 3 = 3\t2 x 3 = 6\t3 x 3 = 9\t4 x 3 = 12\t5 x 3 = 15\t6 x 3 = 18\t7 x 3 = 21\t8 x 3 = 24\t9 x 3 = 27\t10 x 3 = 30\t\n",
            "1 x 4 = 4\t2 x 4 = 8\t3 x 4 = 12\t4 x 4 = 16\t5 x 4 = 20\t6 x 4 = 24\t7 x 4 = 28\t8 x 4 = 32\t9 x 4 = 36\t10 x 4 = 40\t\n",
            "1 x 5 = 5\t2 x 5 = 10\t3 x 5 = 15\t4 x 5 = 20\t5 x 5 = 25\t6 x 5 = 30\t7 x 5 = 35\t8 x 5 = 40\t9 x 5 = 45\t10 x 5 = 50\t\n",
            "1 x 6 = 6\t2 x 6 = 12\t3 x 6 = 18\t4 x 6 = 24\t5 x 6 = 30\t6 x 6 = 36\t7 x 6 = 42\t8 x 6 = 48\t9 x 6 = 54\t10 x 6 = 60\t\n",
            "1 x 7 = 7\t2 x 7 = 14\t3 x 7 = 21\t4 x 7 = 28\t5 x 7 = 35\t6 x 7 = 42\t7 x 7 = 49\t8 x 7 = 56\t9 x 7 = 63\t10 x 7 = 70\t\n",
            "1 x 8 = 8\t2 x 8 = 16\t3 x 8 = 24\t4 x 8 = 32\t5 x 8 = 40\t6 x 8 = 48\t7 x 8 = 56\t8 x 8 = 64\t9 x 8 = 72\t10 x 8 = 80\t\n",
            "1 x 9 = 9\t2 x 9 = 18\t3 x 9 = 27\t4 x 9 = 36\t5 x 9 = 45\t6 x 9 = 54\t7 x 9 = 63\t8 x 9 = 72\t9 x 9 = 81\t10 x 9 = 90\t\n",
            "1 x 10 = 10\t2 x 10 = 20\t3 x 10 = 30\t4 x 10 = 40\t5 x 10 = 50\t6 x 10 = 60\t7 x 10 = 70\t8 x 10 = 80\t9 x 10 = 90\t10 x 10 = 100\t\n"
          ]
        }
      ]
    },
    {
      "cell_type": "markdown",
      "source": [
        "in this project i am building the base of my colab files and setup for my next project , in the first task i completed the 1 to 9*9 multiplication tabel and simpple math fucntions using python in google collab and finds it easy to use."
      ],
      "metadata": {
        "id": "SEZEyVN781bo"
      }
    }
  ]
}